{
 "cells": [
  {
   "cell_type": "code",
   "execution_count": 1,
   "metadata": {},
   "outputs": [],
   "source": [
    "import numpy as np\n",
    "import matplotlib.pyplot as plt\n",
    "import ipywidgets as widgets\n",
    "from IPython.display import display, clear_output\n",
    "from matplotlib.lines import Line2D\n",
    "import time\n",
    "from numpy.random import uniform\n",
    "import scipy.stats"
   ]
  },
  {
   "cell_type": "code",
   "execution_count": 2,
   "metadata": {},
   "outputs": [],
   "source": [
    "class LinearParticleFilter:\n",
    "    def __init__(self, num_particles: int, world_size: np.ndarray, landmarks: np.ndarray, motion_noise_std: float, sensor_noise_std: float):\n",
    "        '''\n",
    "        num_particles: Number of particles tracked by the filter at every timestep\n",
    "        world_size: Numpy array with row entries [min,max] value\n",
    "        landmarks: Numpy array where each row contains coordinates for the centroid of a landmark\n",
    "        motion_noise_std: Standard deviation of motion model noise term\n",
    "        sensor_noise_std: Standard deviation of sensor model noise term\n",
    "        '''\n",
    "        self.particles = [] # np.array of floats, do not rename\n",
    "        self.weights = [] # np.array of floats, do not rename\n",
    "        self.num_particles = num_particles\n",
    "        self.world_size = np.array([world_size])\n",
    "        self.landmarks = landmarks\n",
    "        self.motion_noise_std = motion_noise_std\n",
    "        self.sensor_noise_std = sensor_noise_std\n",
    "        \n",
    "        self.sample_random_state() \n",
    "    \n",
    "    def sample_random_state(self) -> float:\n",
    "        '''\n",
    "        Returns a random state within world_size bounds\n",
    "        '''\n",
    "        dim = self.world_size.shape[0]\n",
    "        N = self.num_particles\n",
    "        lim = self.world_size\n",
    "        self.particles = np.zeros((N, dim))\n",
    "        self.weights = np.ones((N, dim)) / N \n",
    "        \n",
    "        for i in range(dim):        \n",
    "            self.particles[:, i] = np.random.uniform(lim[i][0], lim[i][1], size=N)\n",
    "         \n",
    "        \n",
    "        return self.particles\n",
    "    \n",
    "        \n",
    "    def predict(self, u: np.ndarray):\n",
    "        '''\n",
    "        u: Motion update (np.ndarray indicating movement distance)\n",
    "        motion_noise_std: Motion model uncertainty\n",
    "        Update particle positions by u, while incorporating 0-mean Gaussian noise with stdev=motion_noise_std\n",
    "        '''\n",
    "        N = self.num_particles\n",
    "        dim = self.world_size.shape[0]\n",
    "        self.particles = self.particles.reshape(N,dim)\n",
    "        self.weights = self.weights.reshape(N,1)\n",
    "        noise = np.random.normal(0, self.motion_noise_std, size=(N, dim))\n",
    "        move1 = noise + u\n",
    "        \n",
    "        self.particles = self.particles + move1\n",
    "        \n",
    "        self.particles = self.particles.flatten()\n",
    "        self.weights = self.weights.flatten()\n",
    "\n",
    "             \n",
    "    def update(self, z: np.ndarray):\n",
    "        '''\n",
    "        z: Distance from agent to the nearest observable landmark\n",
    "        Updates particle weights using sensor reading z, which gives the distance to the nearest landmark.\n",
    "        Particle weights are updated using a Gaussian model centered at z. \n",
    "        Each weight is the probability mass within a Gaussian, based on the difference between\n",
    "        that particle's distance to the closest landmark and the distribution's mean (z),\n",
    "        with stddev=sensor_noise_std\n",
    "        \n",
    "        All particle weights are normalized before returning from this function\n",
    "        '''\n",
    "\n",
    "        N = self.num_particles\n",
    "        dim = self.world_size.shape[0]\n",
    "        self.particles = self.particles.reshape(N,dim)\n",
    "        self.weights = self.weights.reshape(N,1)\n",
    "        nl = self.landmarks.T.shape[0] #number of landmarks\n",
    "        dist = np.ones((N,1))\n",
    "        dist2 = np.ones((N,1))*1000\n",
    "        z_pdf = scipy.stats.norm(z, self.sensor_noise_std)\n",
    "        \n",
    "        for i in range(nl):\n",
    "            D = self.particles - self.landmarks.T[i, :]\n",
    "            for j in range(N):\n",
    "                dist[j,0] = np.linalg.norm(D[j,:])\n",
    "            \n",
    "            min_dist = np.minimum(dist, dist2)\n",
    "            dist2 = min_dist\n",
    "            \n",
    "        for i in range(N):\n",
    "            self.weights[i] = z_pdf.pdf(dist2[i]) \n",
    "        \n",
    "        self.weights = self.weights/np.sum(self.weights)\n",
    "        \n",
    "        self.particles = self.particles.flatten()\n",
    "        self.weights = self.weights.flatten()\n",
    "        \n",
    "    def resample(self):\n",
    "        '''\n",
    "        Samples new particles proportional to their weight.\n",
    "        This implementation samples 80% of its particles from the existing batch\n",
    "        and 20% of its particles are sampled uniformly at random from the state space.\n",
    "        This is a binary search resampling method.\n"
    "        \n"
    "        '''\n",
    "        N = self.num_particles\n",
    "        dim = self.world_size.shape[0]\n",
    "        self.particles = self.particles.reshape(N,dim)\n",
    "        self.weights = self.weights.reshape(N,1)\n",
    "        lim = self.world_size\n",
    "        ns = int(N*0.8)\n",
    "        nn = N-ns \n",
    "        \n",
    "        cumulative_sum = np.cumsum(self.weights)\n",
    "        cumulative_sum[-1] = 1 # avoid round-off error\n",
    "        indexes = np.searchsorted(cumulative_sum, np.random.rand(ns))\n",
    "\n",
    "        # resample according to indexes(0.8)\n",
    "        self.particles[:ns] = self.particles[indexes]\n",
    "        # resample with new particles (0.2)\n",
    "        self.particles[ns:] = np.random.uniform(lim[0][0],lim[0][1],size=nn).reshape(nn,dim)\n",
    "\n",
    "        self.weights.fill(1.0 / N)\n",
    "        self.particles = self.particles.flatten()\n",
    "        self.weights = self.weights.flatten()\n",
    "        \n",
    "\n",
    "    def estimate(self) -> np.ndarray:\n",
    "        '''\n",
    "        Provides a state estimate based on the particles within the filter.\n",
    "        Returns the state estimate within the most likely particle\n",
    "        '''\n",
    "        N = self.num_particles\n",
    "        max_weight_index = np.argmax(self.weights)\n",
    "        return self.particles[max_weight_index]\n",
    "    "
   ]
  },
  {
   "cell_type": "markdown",
   "metadata": {},
   "source": [
    "### Simulation code for a 1D Linear Domain"
   ]
  },
  {
   "cell_type": "code",
   "execution_count": 8,
   "metadata": {
    "scrolled": false
   },
   "outputs": [],
   "source": [
    "world_size = np.array([-10,10])\n",
    "f=np.array([[1,10]])\n",
    "motion_noise_std = 0.1\n",
    "sensor_noise_std = 0.1\n",
    "num_particles = 100\n",
    "initial_pos = np.random.uniform(world_size[0], world_size[1])\n",
    "control_sequence = [1, 1, -0.2, -0.1, 0.2, 0, 0.1, 2, .4, .2, -0.2, -0.5, -0.1, -0.1] * 3\n",
    "landmarks = np.array([[-5, 0]])\n",
    "\n",
    "pf = LinearParticleFilter(num_particles, world_size, landmarks, filter_motion_noise_slider.value, filter_sensor_noise_slider.value)\n",
    "est_poses, real_poses = run_linear_particle_filter_simulation(pf, world_size, landmarks, motion_noise_std, sensor_noise_std, initial_pos, control_sequence)\n"
   ]
  },
  {
   "cell_type": "code",
   "execution_count": 9,
   "metadata": {},
   "outputs": [
    {
     "data": {
      "image/png": "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\n",
      "text/plain": [
       "<Figure size 640x480 with 1 Axes>"
      ]
     },
     "metadata": {},
     "output_type": "display_data"
    }
   ],
   "source": [
    "for rob_pos, est_pos in zip(real_poses, est_poses):\n",
    "    time.sleep(0.1)\n",
    "    clear_output(wait=True)\n",
    "    visualize_linear_world(rob_pos, est_pos, landmarks, world_size)"
   ]
  },
  {
   "cell_type": "code",
   "execution_count": null,
   "metadata": {},
   "outputs": [],
   "source": []
  }
 ],
 "metadata": {
  "kernelspec": {
   "display_name": "Python 3 (ipykernel)",
   "language": "python",
   "name": "python3"
  },
  "language_info": {
   "codemirror_mode": {
    "name": "ipython",
    "version": 3
   },
   "file_extension": ".py",
   "mimetype": "text/x-python",
   "name": "python",
   "nbconvert_exporter": "python",
   "pygments_lexer": "ipython3",
   "version": "3.9.13"
  }
 },
 "nbformat": 4,
 "nbformat_minor": 2
}
